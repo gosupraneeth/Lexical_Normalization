{
  "nbformat": 4,
  "nbformat_minor": 0,
  "metadata": {
    "accelerator": "GPU",
    "colab": {
      "name": "train_lex_norm.ipynb",
      "provenance": [],
      "collapsed_sections": []
    },
    "kernelspec": {
      "display_name": "Python 3",
      "name": "python3"
    },
    "language_info": {
      "name": "python"
    }
  },
  "cells": [
    {
      "cell_type": "code",
      "metadata": {
        "id": "XLtM5EJ4o6Za"
      },
      "source": [
        "import warnings\n",
        "warnings.filterwarnings('ignore',category=FutureWarning)\n",
        "\n",
        "import re\n",
        "import json\n",
        "import numpy as np\n",
        "import pandas as pd\n",
        "import pickle as pkl\n",
        "import matplotlib.pyplot as plt\n",
        "\n",
        "from collections import defaultdict \n",
        "\n",
        "from tensorflow import keras as K\n",
        "from tensorflow import one_hot\n",
        "\n",
        "from tensorflow.keras.models import Sequential\n",
        "\n",
        "from tensorflow.keras.layers import GRU\n",
        "from tensorflow.keras.layers import LSTM\n",
        "from tensorflow.keras.layers import Dense\n",
        "from tensorflow.keras.layers import Input\n",
        "from tensorflow.keras.layers import Embedding\n",
        "from tensorflow.keras.layers import Activation\n",
        "from tensorflow.keras.layers import Bidirectional\n",
        "from tensorflow.keras.layers import TimeDistributed\n",
        "\n",
        "from tensorflow.keras.optimizers import Adam\n",
        "\n",
        "GRU_LAYER = 1\n",
        "LSTM_LAYER = 3\n",
        "BILSTM_LAYER = 2\n",
        "\n",
        "LAYER = LSTM_LAYER\n",
        "EPOCHS = 30\n",
        "MAX_LEN = 50\n",
        "BATCH_SIZE = 16\n",
        "HIDDEN_DIM = 100\n",
        "VECTOR_DIM = 100\n",
        "VALID_SPLIT = 0.2"
      ],
      "execution_count": 2,
      "outputs": []
    },
    {
      "cell_type": "code",
      "metadata": {
        "id": "XyDmszkSuDof"
      },
      "source": [
        "def get_data(path):\n",
        "\n",
        "    X = []\n",
        "    Y = []\n",
        "\n",
        "    data = json.load(open(path))\n",
        "\n",
        "    for dict in data:\n",
        "\n",
        "        x = dict['input']\n",
        "        y = dict['output']\n",
        "\n",
        "        n = len(x)\n",
        "\n",
        "        for i in range(n):\n",
        "            x[i] = re.sub('@[^ ]+','<username>',x[i])\n",
        "            x[i] = re.sub('http://[^ ]+','<link>',x[i])\n",
        "            x[i] = re.sub('#[^ ]+','<hashtag>',x[i])\n",
        "\n",
        "            y[i] = re.sub('@[^ ]+','<username>',y[i])\n",
        "            y[i] = re.sub('http://[^ ]+','<link>',y[i])\n",
        "            y[i] = re.sub('#[^ ]+','<hashtag>',y[i])\n",
        "\n",
        "        for _ in range(MAX_LEN-n):\n",
        "            x.append('<pad>')\n",
        "            y.append('<pad>')\n",
        "        \n",
        "        X.append(x)\n",
        "        Y.append(y)\n",
        "\n",
        "    return X, Y"
      ],
      "execution_count": 3,
      "outputs": []
    },
    {
      "cell_type": "code",
      "metadata": {
        "id": "W7Wfmdd6uIT_"
      },
      "source": [
        "def buildDict(data):\n",
        "\n",
        "    wordToNum = {'<pad>':0}\n",
        "    num = 1\n",
        "    for sent in data:\n",
        "        for word in sent:\n",
        "            if word not in wordToNum.keys():\n",
        "                wordToNum[word] = num\n",
        "                num+= 1\n",
        "\n",
        "    return wordToNum"
      ],
      "execution_count": 4,
      "outputs": []
    },
    {
      "cell_type": "code",
      "metadata": {
        "id": "bllowJTjuL6e"
      },
      "source": [
        "def buildDictInv(wordToNum):\n",
        "\n",
        "    numToWord = {}\n",
        "\n",
        "    for key in wordToNum.keys():\n",
        "        numToWord[wordToNum[key]] = key\n",
        "\n",
        "    return numToWord"
      ],
      "execution_count": 5,
      "outputs": []
    },
    {
      "cell_type": "code",
      "metadata": {
        "id": "e234Bo_GuPk2"
      },
      "source": [
        "def tokenize(data,wordToNum):\n",
        "\n",
        "    tokenizedData = []\n",
        "\n",
        "    for sent in data:\n",
        "\n",
        "        tokenizedSent = []\n",
        "        for word in sent:\n",
        "            tokenizedSent.append(wordToNum[word])\n",
        "\n",
        "        tokenizedSent=np.array(tokenizedSent,dtype=float)\n",
        "        tokenizedData.append(tokenizedSent)\n",
        "\n",
        "    return np.array(tokenizedData)"
      ],
      "execution_count": 6,
      "outputs": []
    },
    {
      "cell_type": "code",
      "metadata": {
        "id": "a6852y15uSvb"
      },
      "source": [
        "def getModel(VOCAB_SIZE, layer_type):\n",
        "\n",
        "    model = Sequential()\n",
        "\n",
        "    model.add(Input(shape=(MAX_LEN,)))\n",
        "    model.add(Embedding(VOCAB_SIZE, output_dim=VECTOR_DIM, input_length=MAX_LEN, trainable=True, mask_zero=True))\n",
        "\n",
        "    if layer_type == GRU_LAYER:\n",
        "      model.add(GRU(HIDDEN_DIM, return_sequences = True))\n",
        "\n",
        "    elif layer_type == BILSTM_LAYER:\n",
        "      model.add(Bidirectional(LSTM(HIDDEN_DIM, return_sequences = True)))\n",
        "      \n",
        "    else:\n",
        "      model.add(LSTM(HIDDEN_DIM, return_sequences = True))\n",
        "    \n",
        "    model.add(TimeDistributed(Dense(VOCAB_SIZE)))\n",
        "    model.add(Activation('softmax'))\n",
        "    model.compile(optimizer='adam', loss='sparse_categorical_crossentropy', metrics=['sparse_categorical_accuracy'])\n",
        "    \n",
        "    print(model.summary())\n",
        "    \n",
        "    return model"
      ],
      "execution_count": 7,
      "outputs": []
    },
    {
      "cell_type": "code",
      "metadata": {
        "id": "NGMSIGF0uXF1"
      },
      "source": [
        "def defineModel():\n",
        "\n",
        "    raw, normalized = get_data('data/data.json')\n",
        "\n",
        "    wordToNum = buildDict(raw + normalized)\n",
        "    numToWord = buildDictInv(wordToNum)\n",
        "    vocab_size = len(wordToNum)+1\n",
        "\n",
        "    model       = getModel(vocab_size, LAYER)\n",
        "\n",
        "    model.save('model.h5')\n",
        "    pkl.dump(wordToNum, open('data/wordToNum.pkl', 'wb'))\n",
        "    pkl.dump(numToWord, open('data/numToWord.pkl', 'wb'))"
      ],
      "execution_count": 8,
      "outputs": []
    },
    {
      "cell_type": "code",
      "metadata": {
        "id": "aLplsRlhpRBB"
      },
      "source": [
        "def plot(history):\n",
        "    \n",
        "    plt.plot(history.history['sparse_categorical_accuracy'])\n",
        "    plt.plot(history.history['val_sparse_categorical_accuracy'])\n",
        "    plt.title('model accuracy and loss')\n",
        "    plt.ylabel('accuracy')\n",
        "    plt.xlabel('epoch')\n",
        "    plt.legend(['train', 'validation'], loc='upper left')\n",
        "    plt.savefig(str(LAYER)+'_acc.png')\n",
        "    plt.show()\n",
        "    \n",
        "\n",
        "    plt.plot(history.history['loss'])\n",
        "    plt.plot(history.history['val_loss'])\n",
        "    plt.title('model loss')\n",
        "    plt.ylabel('loss')\n",
        "    plt.xlabel('epoch')\n",
        "    plt.legend(['train', 'validation'], loc='upper left')\n",
        "    plt.savefig(str(LAYER)+'_loss.png')\n",
        "    plt.show()\n",
        "    "
      ],
      "execution_count": 9,
      "outputs": []
    },
    {
      "cell_type": "code",
      "metadata": {
        "id": "NRFQxCCCuhRo"
      },
      "source": [
        "def train():\n",
        "\n",
        "  model = K.models.load_model('model.h5')\n",
        "  wordToNum = pkl.load(open('data/wordToNum.pkl', 'rb'))\n",
        "\n",
        "  raw, normalized = get_data('data/data.json')\n",
        "  print(\"Total Samples   : \", len(raw))\n",
        "\n",
        "  raw = tokenize(raw, wordToNum)\n",
        "  normalized = tokenize(normalized, wordToNum)\n",
        "\n",
        "  x = raw\n",
        "  y = normalized\n",
        "  y = y.reshape(y.shape[0], y.shape[1], 1)\n",
        "\n",
        "  history = model.fit(x, y, batch_size = BATCH_SIZE, epochs = EPOCHS, validation_split=VALID_SPLIT)\n",
        "\n",
        "  model.save('model.h5')\n",
        "\n",
        "  return history"
      ],
      "execution_count": 10,
      "outputs": []
    },
    {
      "cell_type": "code",
      "metadata": {
        "colab": {
          "base_uri": "https://localhost:8080/"
        },
        "id": "Op-jd3V9u08B",
        "outputId": "eba64c3d-8787-4429-c2b8-5c86c8d78598"
      },
      "source": [
        "defineModel()"
      ],
      "execution_count": 11,
      "outputs": [
        {
          "output_type": "stream",
          "text": [
            "Model: \"sequential\"\n",
            "_________________________________________________________________\n",
            "Layer (type)                 Output Shape              Param #   \n",
            "=================================================================\n",
            "embedding (Embedding)        (None, 50, 100)           2222900   \n",
            "_________________________________________________________________\n",
            "lstm (LSTM)                  (None, 50, 100)           80400     \n",
            "_________________________________________________________________\n",
            "time_distributed (TimeDistri (None, 50, 22229)         2245129   \n",
            "_________________________________________________________________\n",
            "activation (Activation)      (None, 50, 22229)         0         \n",
            "=================================================================\n",
            "Total params: 4,548,429\n",
            "Trainable params: 4,548,429\n",
            "Non-trainable params: 0\n",
            "_________________________________________________________________\n",
            "None\n"
          ],
          "name": "stdout"
        }
      ]
    },
    {
      "cell_type": "code",
      "metadata": {
        "colab": {
          "base_uri": "https://localhost:8080/"
        },
        "id": "u3KZyWevvu8P",
        "outputId": "748ecc8c-e2bf-4b5c-8d99-0cb0b1da58ab"
      },
      "source": [
        "history = train()"
      ],
      "execution_count": 12,
      "outputs": [
        {
          "output_type": "stream",
          "text": [
            "Total Samples   :  4917\n",
            "Epoch 1/30\n",
            "246/246 [==============================] - 50s 61ms/step - loss: 2.2859 - sparse_categorical_accuracy: 0.0588 - val_loss: 2.0188 - val_sparse_categorical_accuracy: 0.0500\n",
            "Epoch 2/30\n",
            "246/246 [==============================] - 14s 55ms/step - loss: 1.8781 - sparse_categorical_accuracy: 0.0556 - val_loss: 1.9521 - val_sparse_categorical_accuracy: 0.0669\n",
            "Epoch 3/30\n",
            "246/246 [==============================] - 13s 55ms/step - loss: 1.7840 - sparse_categorical_accuracy: 0.1060 - val_loss: 1.9071 - val_sparse_categorical_accuracy: 0.1289\n",
            "Epoch 4/30\n",
            "246/246 [==============================] - 13s 54ms/step - loss: 1.6951 - sparse_categorical_accuracy: 0.1542 - val_loss: 1.8247 - val_sparse_categorical_accuracy: 0.1793\n",
            "Epoch 5/30\n",
            "246/246 [==============================] - 13s 53ms/step - loss: 1.5715 - sparse_categorical_accuracy: 0.2264 - val_loss: 1.7183 - val_sparse_categorical_accuracy: 0.2913\n",
            "Epoch 6/30\n",
            "246/246 [==============================] - 13s 54ms/step - loss: 1.4330 - sparse_categorical_accuracy: 0.3289 - val_loss: 1.6041 - val_sparse_categorical_accuracy: 0.3764\n",
            "Epoch 7/30\n",
            "246/246 [==============================] - 13s 54ms/step - loss: 1.2947 - sparse_categorical_accuracy: 0.4100 - val_loss: 1.4931 - val_sparse_categorical_accuracy: 0.4502\n",
            "Epoch 8/30\n",
            "246/246 [==============================] - 13s 54ms/step - loss: 1.1674 - sparse_categorical_accuracy: 0.4789 - val_loss: 1.4056 - val_sparse_categorical_accuracy: 0.5102\n",
            "Epoch 9/30\n",
            "246/246 [==============================] - 13s 53ms/step - loss: 1.0551 - sparse_categorical_accuracy: 0.5372 - val_loss: 1.3403 - val_sparse_categorical_accuracy: 0.5658\n",
            "Epoch 10/30\n",
            "246/246 [==============================] - 13s 53ms/step - loss: 0.9544 - sparse_categorical_accuracy: 0.5867 - val_loss: 1.2784 - val_sparse_categorical_accuracy: 0.6082\n",
            "Epoch 11/30\n",
            "246/246 [==============================] - 13s 53ms/step - loss: 0.8677 - sparse_categorical_accuracy: 0.6267 - val_loss: 1.2271 - val_sparse_categorical_accuracy: 0.6357\n",
            "Epoch 12/30\n",
            "246/246 [==============================] - 13s 54ms/step - loss: 0.7911 - sparse_categorical_accuracy: 0.6560 - val_loss: 1.1866 - val_sparse_categorical_accuracy: 0.6656\n",
            "Epoch 13/30\n",
            "246/246 [==============================] - 13s 54ms/step - loss: 0.7214 - sparse_categorical_accuracy: 0.6840 - val_loss: 1.1510 - val_sparse_categorical_accuracy: 0.6838\n",
            "Epoch 14/30\n",
            "246/246 [==============================] - 13s 54ms/step - loss: 0.6579 - sparse_categorical_accuracy: 0.7062 - val_loss: 1.1258 - val_sparse_categorical_accuracy: 0.6976\n",
            "Epoch 15/30\n",
            "246/246 [==============================] - 13s 54ms/step - loss: 0.6004 - sparse_categorical_accuracy: 0.7258 - val_loss: 1.0951 - val_sparse_categorical_accuracy: 0.7145\n",
            "Epoch 16/30\n",
            "246/246 [==============================] - 13s 54ms/step - loss: 0.5475 - sparse_categorical_accuracy: 0.7456 - val_loss: 1.0731 - val_sparse_categorical_accuracy: 0.7272\n",
            "Epoch 17/30\n",
            "246/246 [==============================] - 13s 54ms/step - loss: 0.4982 - sparse_categorical_accuracy: 0.7649 - val_loss: 1.0627 - val_sparse_categorical_accuracy: 0.7376\n",
            "Epoch 18/30\n",
            "246/246 [==============================] - 13s 54ms/step - loss: 0.4520 - sparse_categorical_accuracy: 0.7848 - val_loss: 1.0440 - val_sparse_categorical_accuracy: 0.7477\n",
            "Epoch 19/30\n",
            "246/246 [==============================] - 13s 54ms/step - loss: 0.4088 - sparse_categorical_accuracy: 0.8053 - val_loss: 1.0307 - val_sparse_categorical_accuracy: 0.7585\n",
            "Epoch 20/30\n",
            "246/246 [==============================] - 13s 54ms/step - loss: 0.3678 - sparse_categorical_accuracy: 0.8268 - val_loss: 1.0144 - val_sparse_categorical_accuracy: 0.7658\n",
            "Epoch 21/30\n",
            "246/246 [==============================] - 13s 54ms/step - loss: 0.3290 - sparse_categorical_accuracy: 0.8493 - val_loss: 0.9978 - val_sparse_categorical_accuracy: 0.7714\n",
            "Epoch 22/30\n",
            "246/246 [==============================] - 13s 54ms/step - loss: 0.2923 - sparse_categorical_accuracy: 0.8755 - val_loss: 0.9810 - val_sparse_categorical_accuracy: 0.7779\n",
            "Epoch 23/30\n",
            "246/246 [==============================] - 13s 54ms/step - loss: 0.2577 - sparse_categorical_accuracy: 0.9029 - val_loss: 0.9722 - val_sparse_categorical_accuracy: 0.7831\n",
            "Epoch 24/30\n",
            "246/246 [==============================] - 13s 54ms/step - loss: 0.2252 - sparse_categorical_accuracy: 0.9320 - val_loss: 0.9588 - val_sparse_categorical_accuracy: 0.7861\n",
            "Epoch 25/30\n",
            "246/246 [==============================] - 13s 54ms/step - loss: 0.1949 - sparse_categorical_accuracy: 0.9557 - val_loss: 0.9494 - val_sparse_categorical_accuracy: 0.7899\n",
            "Epoch 26/30\n",
            "246/246 [==============================] - 13s 54ms/step - loss: 0.1668 - sparse_categorical_accuracy: 0.9730 - val_loss: 0.9314 - val_sparse_categorical_accuracy: 0.7936\n",
            "Epoch 27/30\n",
            "246/246 [==============================] - 13s 54ms/step - loss: 0.1413 - sparse_categorical_accuracy: 0.9832 - val_loss: 0.9227 - val_sparse_categorical_accuracy: 0.7944\n",
            "Epoch 28/30\n",
            "246/246 [==============================] - 13s 54ms/step - loss: 0.1180 - sparse_categorical_accuracy: 0.9892 - val_loss: 0.9092 - val_sparse_categorical_accuracy: 0.7956\n",
            "Epoch 29/30\n",
            "246/246 [==============================] - 13s 54ms/step - loss: 0.0974 - sparse_categorical_accuracy: 0.9926 - val_loss: 0.9017 - val_sparse_categorical_accuracy: 0.7972\n",
            "Epoch 30/30\n",
            "246/246 [==============================] - 13s 54ms/step - loss: 0.0796 - sparse_categorical_accuracy: 0.9948 - val_loss: 0.8934 - val_sparse_categorical_accuracy: 0.7984\n"
          ],
          "name": "stdout"
        }
      ]
    },
    {
      "cell_type": "code",
      "metadata": {
        "colab": {
          "base_uri": "https://localhost:8080/",
          "height": 573
        },
        "id": "MsuvZBTJqSFm",
        "outputId": "a00ef04d-4b88-40d1-cb57-17bea54efa25"
      },
      "source": [
        "plot(history)"
      ],
      "execution_count": 13,
      "outputs": [
        {
          "output_type": "display_data",
          "data": {
            "image/png": "[encoded data removed]",
            "text/plain": [
              "<Figure size 432x288 with 1 Axes>"
            ]
          },
          "metadata": {
            "tags": [],
            "needs_background": "light"
          }
        },
        {
          "output_type": "display_data",
          "data": {
            "image/png": "[encoded data removed]",
            "text/plain": [
              "<Figure size 432x288 with 1 Axes>"
            ]
          },
          "metadata": {
            "tags": [],
            "needs_background": "light"
          }
        }
      ]
    }
  ]
}